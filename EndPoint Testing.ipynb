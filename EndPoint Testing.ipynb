{
 "cells": [
  {
   "cell_type": "code",
   "execution_count": 1,
   "id": "fe9088c2",
   "metadata": {},
   "outputs": [
    {
     "name": "stdout",
     "output_type": "stream",
     "text": [
      "{\n",
      "  \"age\": 30, \n",
      "  \"credit_score\": 700, \n",
      "  \"height\": 165, \n",
      "  \"income\": 40000\n",
      "}\n",
      "\n"
     ]
    }
   ],
   "source": [
    "import requests\n",
    "\n",
    "url = \"http://127.0.0.1:1957/api/v1/predict\"\n",
    "\n",
    "payload = {}\n",
    "headers = {}\n",
    "\n",
    "response = requests.request(\"GET\", url, headers=headers, data=payload)\n",
    "\n",
    "print(response.text)"
   ]
  },
  {
   "cell_type": "code",
   "execution_count": 7,
   "id": "30238a9e",
   "metadata": {},
   "outputs": [
    {
     "name": "stdout",
     "output_type": "stream",
     "text": [
      "{\n",
      "  \"data\": [\n",
      "    {\n",
      "      \"book_author\": \"jack Hughman\", \n",
      "      \"book_title\": \"God of War\", \n",
      "      \"description\": \"spoils of war\", \n",
      "      \"id\": 1, \n",
      "      \"publisher\": \"chowa\"\n",
      "    }, \n",
      "    {\n",
      "      \"book_author\": \"Tom clancy\", \n",
      "      \"book_title\": \"Splinter cell\", \n",
      "      \"description\": \"splinting of cells\", \n",
      "      \"id\": 2, \n",
      "      \"publisher\": \"cross\"\n",
      "    }, \n",
      "    {\n",
      "      \"book_author\": \"jackie bu\", \n",
      "      \"book_title\": \"Monsters\", \n",
      "      \"description\": \"Are monsters real\", \n",
      "      \"id\": 3, \n",
      "      \"publisher\": \"meme\"\n",
      "    }, \n",
      "    {\n",
      "      \"book_author\": \"Theophilus Siameh\", \n",
      "      \"book_title\": \"Apache Pulsar\", \n",
      "      \"description\": \"Stream processing\", \n",
      "      \"id\": 4, \n",
      "      \"publisher\": \"Amazon\"\n",
      "    }, \n",
      "    {\n",
      "      \"book_author\": \"World Boss\", \n",
      "      \"book_title\": \"Pulsar\", \n",
      "      \"description\": \"Stream processing\", \n",
      "      \"id\": 5, \n",
      "      \"publisher\": \"Amazon\"\n",
      "    }\n",
      "  ]\n",
      "}\n",
      "\n"
     ]
    }
   ],
   "source": [
    "import requests\n",
    "\n",
    "url = \"http://127.0.0.1:1957/api/v1/books\"\n",
    "\n",
    "payload = \"\"\n",
    "headers = {}\n",
    "\n",
    "response = requests.request(\"GET\", url, headers=headers, data=payload)\n",
    "\n",
    "if (response.status_code == 200):\n",
    "    print(response.text)\n",
    "else:\n",
    "    print(\"Something went wrong!\")"
   ]
  },
  {
   "cell_type": "code",
   "execution_count": 6,
   "id": "4ac24394",
   "metadata": {},
   "outputs": [
    {
     "name": "stdout",
     "output_type": "stream",
     "text": [
      "[\n",
      "  {\n",
      "    \"book_author\": \"jack Hughman\", \n",
      "    \"book_title\": \"God of War\", \n",
      "    \"description\": \"spoils of war\", \n",
      "    \"id\": 1, \n",
      "    \"publisher\": \"chowa\"\n",
      "  }, \n",
      "  {\n",
      "    \"book_author\": \"Tom clancy\", \n",
      "    \"book_title\": \"Splinter cell\", \n",
      "    \"description\": \"splinting of cells\", \n",
      "    \"id\": 2, \n",
      "    \"publisher\": \"cross\"\n",
      "  }, \n",
      "  {\n",
      "    \"book_author\": \"jackie bu\", \n",
      "    \"book_title\": \"Monsters\", \n",
      "    \"description\": \"Are monsters real\", \n",
      "    \"id\": 3, \n",
      "    \"publisher\": \"meme\"\n",
      "  }, \n",
      "  {\n",
      "    \"book_author\": \"Theophilus Siameh\", \n",
      "    \"book_title\": \"Apache Pulsar\", \n",
      "    \"description\": \"Stream processing\", \n",
      "    \"id\": 4, \n",
      "    \"publisher\": \"Amazon\"\n",
      "  }, \n",
      "  {\n",
      "    \"book_author\": \"World Boss\", \n",
      "    \"book_title\": \"Pulsar\", \n",
      "    \"description\": \"Stream processing\", \n",
      "    \"id\": 5, \n",
      "    \"publisher\": \"Amazon\"\n",
      "  }\n",
      "]\n",
      "\n"
     ]
    }
   ],
   "source": [
    "import requests\n",
    "import json\n",
    "\n",
    "url = \"http://127.0.0.1:1957/api/v1/books\"\n",
    "\n",
    "payload = json.dumps({\n",
    "  \"book_title\": \"Pulsar\",\n",
    "  \"book_author\": \"World Boss\",\n",
    "  \"publisher\": \"Amazon\",\n",
    "  \"description\": \"Stream processing\"\n",
    "})\n",
    "headers = {\n",
    "  'Content-Type': 'application/json'\n",
    "}\n",
    "\n",
    "response = requests.request(\"POST\", url, headers=headers, data=payload)\n",
    "\n",
    "print(response.text)"
   ]
  },
  {
   "cell_type": "code",
   "execution_count": null,
   "id": "a35283e6",
   "metadata": {},
   "outputs": [],
   "source": []
  },
  {
   "cell_type": "code",
   "execution_count": null,
   "id": "d4793f85",
   "metadata": {},
   "outputs": [],
   "source": []
  }
 ],
 "metadata": {
  "kernelspec": {
   "display_name": "Python 3 (ipykernel)",
   "language": "python",
   "name": "python3"
  },
  "language_info": {
   "codemirror_mode": {
    "name": "ipython",
    "version": 3
   },
   "file_extension": ".py",
   "mimetype": "text/x-python",
   "name": "python",
   "nbconvert_exporter": "python",
   "pygments_lexer": "ipython3",
   "version": "3.10.0"
  }
 },
 "nbformat": 4,
 "nbformat_minor": 5
}
